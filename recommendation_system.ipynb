{
  "cells": [
    {
      "cell_type": "markdown",
      "metadata": {
        "id": "view-in-github",
        "colab_type": "text"
      },
      "source": [
        "<a href=\"https://colab.research.google.com/github/am2644/TMDB-5000-Movie-Dataset/blob/main/recommendation_system.ipynb\" target=\"_parent\"><img src=\"https://colab.research.google.com/assets/colab-badge.svg\" alt=\"Open In Colab\"/></a>"
      ]
    },
    {
      "cell_type": "code",
      "execution_count": null,
      "metadata": {
        "id": "JGdaQepfpQDu"
      },
      "outputs": [],
      "source": [
        "! pip install -q kaggle"
      ]
    },
    {
      "cell_type": "code",
      "execution_count": null,
      "metadata": {
        "colab": {
          "base_uri": "https://localhost:8080/"
        },
        "id": "NpfPpf7ypRCk",
        "outputId": "6e76e105-162e-4b6c-f59c-84c85655556c"
      },
      "outputs": [
        {
          "name": "stdout",
          "output_type": "stream",
          "text": [
            "mkdir: cannot create directory ‘/root/.kaggle’: File exists\n"
          ]
        }
      ],
      "source": [
        "! mkdir ~/.kaggle"
      ]
    },
    {
      "cell_type": "code",
      "execution_count": null,
      "metadata": {
        "id": "HDU_Us6FpUhc"
      },
      "outputs": [],
      "source": [
        "! cp kaggle.json ~/.kaggle/"
      ]
    },
    {
      "cell_type": "code",
      "execution_count": null,
      "metadata": {
        "id": "_Dlwfe2WpXaM"
      },
      "outputs": [],
      "source": [
        "! chmod 600 ~/.kaggle/kaggle.json"
      ]
    },
    {
      "cell_type": "code",
      "execution_count": null,
      "metadata": {
        "colab": {
          "base_uri": "https://localhost:8080/"
        },
        "id": "1tjJiayDpZmU",
        "outputId": "e2277cf4-3281-4943-c6fb-817cd107660f"
      },
      "outputs": [
        {
          "name": "stdout",
          "output_type": "stream",
          "text": [
            "Downloading tmdb-movie-metadata.zip to /content\n",
            " 79% 7.00M/8.89M [00:00<00:00, 25.0MB/s]\n",
            "100% 8.89M/8.89M [00:00<00:00, 29.2MB/s]\n"
          ]
        }
      ],
      "source": [
        "! kaggle datasets download -d tmdb/tmdb-movie-metadata"
      ]
    },
    {
      "cell_type": "code",
      "execution_count": null,
      "metadata": {
        "colab": {
          "base_uri": "https://localhost:8080/"
        },
        "id": "l6XJNDI5pdac",
        "outputId": "d7afc679-86cf-4078-840f-d58364ddb299"
      },
      "outputs": [
        {
          "name": "stdout",
          "output_type": "stream",
          "text": [
            "Archive:  tmdb-movie-metadata.zip\n",
            "  inflating: tmdb_5000_credits.csv   \n",
            "  inflating: tmdb_5000_movies.csv    \n"
          ]
        }
      ],
      "source": [
        "! unzip tmdb-movie-metadata.zip"
      ]
    },
    {
      "cell_type": "code",
      "execution_count": null,
      "metadata": {
        "id": "-MYEna10yVck"
      },
      "outputs": [],
      "source": [
        "! pip install sentence-transformers"
      ]
    },
    {
      "cell_type": "code",
      "execution_count": null,
      "metadata": {
        "id": "EOgXOgedp8wj"
      },
      "outputs": [],
      "source": [
        "# Importing necessary libraries\n",
        "import pandas as pd  # For data manipulation and analysis\n",
        "import numpy as np  # For numerical operations\n",
        "from sentence_transformers import SentenceTransformer  # For transforming sentences into embeddings\n",
        "from sklearn.metrics.pairwise import cosine_similarity  # For computing cosine similarity between embeddings"
      ]
    },
    {
      "cell_type": "code",
      "execution_count": null,
      "metadata": {
        "id": "oDNpjSCmqC5R"
      },
      "outputs": [],
      "source": [
        "# Reading the first CSV file into a pandas DataFrame\n",
        "df1 = pd.read_csv('/content/tmdb_5000_credits.csv')\n",
        "\n",
        "# Reading the second CSV file into another pandas DataFrame\n",
        "df2 = pd.read_csv('/content/tmdb_5000_movies.csv')"
      ]
    },
    {
      "cell_type": "code",
      "execution_count": null,
      "metadata": {
        "id": "SQgvE5HsqTW5"
      },
      "outputs": [],
      "source": [
        "# Renaming the 'movie_id' column to 'id' in the DataFrame df1\n",
        "df1.rename(columns={'movie_id': 'id'}, inplace=True)\n",
        "\n",
        "# Merging the two DataFrames (df1 and df2) on the 'id' column\n",
        "df = df1.merge(df2, on='id')"
      ]
    },
    {
      "cell_type": "code",
      "execution_count": null,
      "metadata": {
        "id": "bRlw7Jzuzj3h"
      },
      "outputs": [],
      "source": [
        "# Initializing the model with 'bert-base-nli-mean-tokens' pre-trained model\n",
        "model = SentenceTransformer('bert-base-nli-mean-tokens')"
      ]
    },
    {
      "cell_type": "code",
      "execution_count": null,
      "metadata": {
        "id": "SG5_KQpd9YC9"
      },
      "outputs": [],
      "source": [
        "# Updating the 'overview' column for specific rows in the DataFrame df\n",
        "df.loc[2656, 'overview'] = 'A biopic of the rise of father Jorge Mario Bergoglio SJ from a teacher in a Jesuit High School in Argentina to archbishop and cardinal of Buenos Aires to Pope of the Roman Catholic Church. The story touches on his relation with his fellow Jesuits in Argentina and Europe, to his relation with laureate writer Jorge Luis Borges, Argentine dictator Jorge Rafael Videla, and archbishops Laghi (nuncio to Argentina) and Quarracino (cardinal of Buenos Aires), up to the moment where he is elected Pope in 2013.'\n",
        "df.loc[4140, 'overview'] = 'The life of Frank Sinatra, as an actor and singer and the steps along the way that led him to become such an icon.'\n",
        "df.loc[4431, 'overview'] = \"There is so much interest in food these days yet there is almost no interest in the hands that pick that food. In the US, farm labor has always been one of the most difficult and poorly paid jobs and has relied on some of the nation's most vulnerable people. While the legal restrictions which kept people bound to farms, like slavery, have been abolished, exploitation still exists, ranging from wage theft to modern-day slavery. These days, this exploitation is perpetuated by the corporations at the top of the food chain: supermarkets. Their buying power has kept wages pitifully low and has created a scenario where desperately poor people are willing to put up with anything to keep their jobs.\"\n"
      ]
    },
    {
      "cell_type": "code",
      "execution_count": null,
      "metadata": {
        "id": "2aD9wKaA0C8Z"
      },
      "outputs": [],
      "source": [
        "# Defining a function to vectorize text using the provided SentenceTransformer model\n",
        "def vectorize_text(text):\n",
        "    # Encoding the input text into a vector representation using the pre-trained model\n",
        "    vector = model.encode(text)\n",
        "    # Returning the vector representation of the input text\n",
        "    return vector\n"
      ]
    },
    {
      "cell_type": "code",
      "execution_count": null,
      "metadata": {
        "colab": {
          "background_save": true
        },
        "id": "rq15v__Y04NO"
      },
      "outputs": [],
      "source": [
        "# Applying the vectorize_text function to each element in the 'overview' column of the DataFrame df\n",
        "# and creating a new column 'vectorized_column' to store the resulting vectors\n",
        "df['vectorized_column'] = df['overview'].apply(vectorize_text)"
      ]
    },
    {
      "cell_type": "code",
      "execution_count": null,
      "metadata": {
        "colab": {
          "base_uri": "https://localhost:8080/"
        },
        "id": "GXlmAz6WCKQp",
        "outputId": "ffa446f1-2ff0-4efc-8a38-8a014433f0af"
      },
      "outputs": [
        {
          "output_type": "stream",
          "name": "stdout",
          "text": [
            "Enter the title of the movie: a superhero that fight against a villain\n",
            "Top 3 similar movies:\n",
            "1. Mystery Men - Overview: When Captain Amazing (Kinnear) is kidnapped by Casanova Frankenstein (Rush) a group of superheroes combine together to create a plan. But these aren't normal superheroes. Now, the group who include such heroes as Mr. Furious (Stiller), The Shoveller (Macy) and The Blue Raja (Azaria) must put all the powers together to save everyone they know and love.\n",
            "2. The Matrix Revolutions - Overview: The human city of Zion defends itself against the massive invasion of the machines as Neo fights to end the war at another front while also opposing the rogue Agent Smith.\n",
            "3. Superman IV: The Quest for Peace - Overview: With global superpowers engaged in an increasingly hostile arms race, Superman leads a crusade to rid the world of nuclear weapons. But Lex Luthor, recently sprung from jail, is declaring war on the Man of Steel and his quest to save the planet. Using a strand of Superman's hair, Luthor synthesizes a powerful ally known as Nuclear Man and ignites an epic battle spanning Earth and space.\n"
          ]
        }
      ],
      "source": [
        "def find_similar_movies(text, top_n=3):\n",
        "    # Get the vectorized representation of the input movie title\n",
        "    input_vector = model.encode(text)\n",
        "\n",
        "    # Reshape the input vector to match the shape expected by cosine_similarity\n",
        "    input_vector = input_vector.reshape(1, -1)\n",
        "\n",
        "    # Calculate cosine similarity between the input vector and all other vectors in the dataset\n",
        "    similarities = cosine_similarity(input_vector, df['vectorized_column'].tolist())\n",
        "\n",
        "    # Get the indices of top_n most similar movies\n",
        "    top_indices = similarities.argsort()[0][-top_n-1:-1][::-1]  # Exclude the input title\n",
        "\n",
        "    # Retrieve the titles and overviews of the top_n most similar movies\n",
        "    similar_movies = df.loc[top_indices, ['title_x', 'overview']]\n",
        "\n",
        "    return similar_movies.values.tolist()\n",
        "\n",
        "# Example usage\n",
        "input_title = input(\"Describe the movie you like: \")\n",
        "similar_movies = find_similar_movies(input_title)\n",
        "if similar_movies:\n",
        "    print(\"Top 3 similar movies:\")\n",
        "    for idx, (title, overview) in enumerate(similar_movies, start=1):\n",
        "        print(f\"{idx}. {title} - Overview: {overview}\")\n"
      ]
    }
  ],
  "metadata": {
    "colab": {
      "provenance": [],
      "authorship_tag": "ABX9TyO/tpr4Nf1BmYKfBDM7HlOe",
      "include_colab_link": true
    },
    "kernelspec": {
      "display_name": "Python 3",
      "name": "python3"
    },
    "language_info": {
      "name": "python"
    }
  },
  "nbformat": 4,
  "nbformat_minor": 0
}